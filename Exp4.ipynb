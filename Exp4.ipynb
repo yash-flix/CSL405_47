{
  "cells": [
    {
      "cell_type": "code",
      "execution_count": 7,
      "id": "5f79316b-4e1f-4878-a071-3e6b8925ac3a",
      "metadata": {
        "trusted": true
      },
      "outputs": [
        {
          "name": "stdout",
          "output_type": "stream",
          "text": [
            "3\n",
            "3\n",
            "3\n"
          ]
        }
      ],
      "source": [
        "class StackDepth:\n",
        "    def maximumDepth (self, stringInput : str) -> int:\n",
        "        current_depth = 0;\n",
        "        max_depth = 0;\n",
        "\n",
        "        for ch in stringInput:\n",
        "          if ch==\"(\":\n",
        "            current_depth += 1\n",
        "            max_depth = max(max_depth , current_depth)\n",
        "          elif ch ==\")\":\n",
        "            current_depth -=1\n",
        "\n",
        "        return max_depth\n",
        "\n",
        "    \n",
        "stack_depth = StackDepth()\n",
        "print(stack_depth.maximumDepth(\"(1+(2*3)+((8)/4))+1\"))    \n",
        "print(stack_depth.maximumDepth(\"(1)+((2))+(((3)))\"))   \n",
        "print(stack_depth.maximumDepth(\"()(())((()()))\"))  "
      ]
    },
    {
      "cell_type": "code",
      "execution_count": null,
      "id": "5df34cc7-7e9c-4d75-810b-12229e532ba5",
      "metadata": {
        "trusted": true
      },
      "outputs": [],
      "source": []
    },
    {
      "cell_type": "code",
      "execution_count": null,
      "id": "961f4f85-f5ae-4a98-b560-071baf8d6d74",
      "metadata": {
        "trusted": true
      },
      "outputs": [],
      "source": []
    },
    {
      "cell_type": "code",
      "execution_count": null,
      "id": "1c6ec4d7-6cef-4f4d-9d4b-da66c1e51845",
      "metadata": {
        "trusted": true
      },
      "outputs": [],
      "source": []
    }
  ],
  "metadata": {
    "kernelspec": {
      "display_name": "Python (Pyodide)",
      "language": "python",
      "name": "python"
    },
    "language_info": {
      "codemirror_mode": {
        "name": "python",
        "version": 3
      },
      "file_extension": ".py",
      "mimetype": "text/x-python",
      "name": "python",
      "nbconvert_exporter": "python",
      "pygments_lexer": "ipython3",
      "version": "3.8"
    }
  },
  "nbformat": 4,
  "nbformat_minor": 5
}
