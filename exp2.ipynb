{
 "cells": [
  {
   "cell_type": "code",
   "execution_count": 1,
   "metadata": {},
   "outputs": [
    {
     "name": "stdout",
     "output_type": "stream",
     "text": [
      "Employee is Fullstackdeveloper\n",
      "Employee isFrontenddeveloper\n",
      "Employee is Backenddeveloper\n",
      "Employee is Not a Developerdeveloper\n"
     ]
    }
   ],
   "source": [
    "class Employee:\n",
    "    def __init__ (\n",
    "            self,\n",
    "            designation : str = 'Developer',\n",
    "            frontend : bool = False,\n",
    "            backend : bool = False\n",
    "    ):\n",
    "        self.designation = designation\n",
    "        self.frontend = frontend\n",
    "        self.backend = backend\n",
    "\n",
    "    def __repr__ (self):\n",
    "        return '{}'.format(self.designation)\n",
    "\n",
    "    def verifier(self):\n",
    "        if self.frontend and self.backend:\n",
    "            return \"Fullstack\"\n",
    "        elif self.frontend:\n",
    "            return \"Frontend\"\n",
    "        elif self.backend:\n",
    "            return \"Backend\"\n",
    "        else:\n",
    "            return \"Not a Developer\"\n",
    "\n",
    "if __name__ == '__main__':\n",
    "    firstEmployee = Employee(frontend=True, backend=True)\n",
    "    print(\"Employee is \" + firstEmployee.verifier()+ \"developer\")  \n",
    "    secondEmployee = Employee(frontend=True, backend=False)\n",
    "    print(\"Employee is\" + secondEmployee.verifier()+ \"developer\")  \n",
    "    thirdEmployee = Employee(frontend=False, backend=True)\n",
    "    print(\"Employee is \" +thirdEmployee.verifier()+ \"developer\")  \n",
    "    fourthEmployee = Employee(frontend=False, backend=False)\n",
    "    print(\"Employee is \"+fourthEmployee.verifier()+ \"developer\") "
   ]
  }
 ],
 "metadata": {
  "kernelspec": {
   "display_name": "base",
   "language": "python",
   "name": "python3"
  },
  "language_info": {
   "codemirror_mode": {
    "name": "ipython",
    "version": 3
   },
   "file_extension": ".py",
   "mimetype": "text/x-python",
   "name": "python",
   "nbconvert_exporter": "python",
   "pygments_lexer": "ipython3",
   "version": "3.11.5"
  }
 },
 "nbformat": 4,
 "nbformat_minor": 2
}
